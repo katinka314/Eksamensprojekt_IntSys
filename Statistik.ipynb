{
 "cells": [
  {
   "cell_type": "code",
   "execution_count": 3,
   "metadata": {},
   "outputs": [],
   "source": [
    "import numpy as np"
   ]
  },
  {
   "cell_type": "code",
   "execution_count": 4,
   "metadata": {},
   "outputs": [
    {
     "name": "stdout",
     "output_type": "stream",
     "text": [
      "mean y: 0.795, std y: 0.03109126351029605\n"
     ]
    }
   ],
   "source": [
    "y = np.array([0.8,  0.81, 0.82, 0.75])\n",
    "mean_y, std_y = np.mean(y), np.std(y, ddof=1)\n",
    "print(f\"mean y: {mean_y}, std y: {std_y}\")"
   ]
  },
  {
   "cell_type": "code",
   "execution_count": 5,
   "metadata": {},
   "outputs": [
    {
     "data": {
      "text/plain": [
       "37.135466666666666"
      ]
     },
     "execution_count": 5,
     "metadata": {},
     "output_type": "execute_result"
    }
   ],
   "source": [
    "# sample size calculation for mean on behalf of pilot study\n",
    "std = std_y\n",
    "e = 0.01\n",
    "\n",
    "n = (1.96 * std/e)**2\n",
    "n"
   ]
  },
  {
   "cell_type": "code",
   "execution_count": 6,
   "metadata": {},
   "outputs": [
    {
     "data": {
      "text/plain": [
       "0.030469438240090126"
      ]
     },
     "execution_count": 6,
     "metadata": {},
     "output_type": "execute_result"
    }
   ],
   "source": [
    "# 95 % confidence interval for mean\n",
    "std = std_y\n",
    "n = len(y)\n",
    "\n",
    "e = 1.96 * std / np.sqrt(n)\n",
    "e"
   ]
  },
  {
   "cell_type": "code",
   "execution_count": 7,
   "metadata": {},
   "outputs": [
    {
     "name": "stdout",
     "output_type": "stream",
     "text": [
      "95% confidence interval for mean: 0.76453056175991 - 0.8254694382400901\n"
     ]
    }
   ],
   "source": [
    "Ci_low = mean_y - e\n",
    "Ci_high = mean_y + e\n",
    "\n",
    "print(f\"95% confidence interval for mean: {Ci_low} - {Ci_high}\")"
   ]
  },
  {
   "cell_type": "markdown",
   "metadata": {},
   "source": [
    "Middelværdi"
   ]
  },
  {
   "cell_type": "code",
   "execution_count": 8,
   "metadata": {},
   "outputs": [
    {
     "name": "stdout",
     "output_type": "stream",
     "text": [
      "mean x: 0.7613157894736843, std x: 0.03272911363128579\n"
     ]
    }
   ],
   "source": [
    "x = np.array([0.79, 0.76, 0.75, 0.78, 0.77, 0.77, 0.76, 0.75, 0.75, 0.69, 0.76, 0.71, 0.78, 0.63, 0.77, 0.79, 0.73, 0.8, 0.77, 0.77, 0.76, 0.75, 0.79, 0.74, 0.75, 0.79, 0.79, 0.78, 0.75, 0.77, 0.79, 0.75, 0.76, 0.79, 0.75, 0.74, 0.8, 0.8])\n",
    "mean_x, std_x = np.mean(x), np.std(x, ddof=1)\n",
    "print(f\"mean x: {mean_x}, std x: {std_x}\")"
   ]
  },
  {
   "cell_type": "code",
   "execution_count": 9,
   "metadata": {},
   "outputs": [
    {
     "data": {
      "text/plain": [
       "0.010406352118210092"
      ]
     },
     "execution_count": 9,
     "metadata": {},
     "output_type": "execute_result"
    }
   ],
   "source": [
    "# 95 % confidence interval for mean\n",
    "std = std_x\n",
    "n = len(x)\n",
    "\n",
    "e = 1.96 * std / np.sqrt(n)\n",
    "e"
   ]
  },
  {
   "cell_type": "code",
   "execution_count": 10,
   "metadata": {},
   "outputs": [
    {
     "name": "stdout",
     "output_type": "stream",
     "text": [
      "95% confidence interval for mean: 0.7509094373554742 - 0.7717221415918943\n"
     ]
    }
   ],
   "source": [
    "Ci_low = mean_x - e\n",
    "Ci_high = mean_x + e\n",
    "\n",
    "print(f\"95% confidence interval for mean: {Ci_low} - {Ci_high}\")"
   ]
  },
  {
   "cell_type": "markdown",
   "metadata": {},
   "source": [
    "som proportion"
   ]
  },
  {
   "cell_type": "code",
   "execution_count": 18,
   "metadata": {},
   "outputs": [
    {
     "data": {
      "text/plain": [
       "0.01741067680093645"
      ]
     },
     "execution_count": 18,
     "metadata": {},
     "output_type": "execute_result"
    }
   ],
   "source": [
    "p = 0.761\n",
    "n = 600\n",
    "\n",
    "std = np.sqrt(p*(1-p) / n)\n",
    "std"
   ]
  },
  {
   "cell_type": "code",
   "execution_count": 19,
   "metadata": {},
   "outputs": [
    {
     "data": {
      "text/plain": [
       "0.03412492652983544"
      ]
     },
     "execution_count": 19,
     "metadata": {},
     "output_type": "execute_result"
    }
   ],
   "source": [
    "# fejlmargin for proportion\n",
    "e = 1.96 * std\n",
    "\n",
    "e"
   ]
  },
  {
   "cell_type": "code",
   "execution_count": 20,
   "metadata": {},
   "outputs": [
    {
     "data": {
      "text/plain": [
       "(0.7268750734701646, 0.7951249265298355)"
      ]
     },
     "execution_count": 20,
     "metadata": {},
     "output_type": "execute_result"
    }
   ],
   "source": [
    "ci_low = p - 1.96 * std\n",
    "ci_high = p + 1.96 * std\n",
    "\n",
    "ci_low, ci_high"
   ]
  },
  {
   "cell_type": "code",
   "execution_count": 21,
   "metadata": {},
   "outputs": [
    {
     "data": {
      "text/plain": [
       "6987.063663999999"
      ]
     },
     "execution_count": 21,
     "metadata": {},
     "output_type": "execute_result"
    }
   ],
   "source": [
    "e = 0.01\n",
    "n = 1.96**2 * p*(1-p) / e**2\n",
    "n"
   ]
  }
 ],
 "metadata": {
  "kernelspec": {
   "display_name": "IntelligentSystems",
   "language": "python",
   "name": "python3"
  },
  "language_info": {
   "codemirror_mode": {
    "name": "ipython",
    "version": 3
   },
   "file_extension": ".py",
   "mimetype": "text/x-python",
   "name": "python",
   "nbconvert_exporter": "python",
   "pygments_lexer": "ipython3",
   "version": "3.12.6"
  }
 },
 "nbformat": 4,
 "nbformat_minor": 2
}
